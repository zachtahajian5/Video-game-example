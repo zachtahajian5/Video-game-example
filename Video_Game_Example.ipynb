{
  "nbformat": 4,
  "nbformat_minor": 0,
  "metadata": {
    "colab": {
      "provenance": [],
      "authorship_tag": "ABX9TyO9FAOz4vTVb8Jbu+gQVPrE",
      "include_colab_link": true
    },
    "kernelspec": {
      "name": "python3",
      "display_name": "Python 3"
    },
    "language_info": {
      "name": "python"
    }
  },
  "cells": [
    {
      "cell_type": "markdown",
      "metadata": {
        "id": "view-in-github",
        "colab_type": "text"
      },
      "source": [
        "<a href=\"https://colab.research.google.com/github/zachtahajian5/Video-game-example/blob/main/Video_Game_Example.ipynb\" target=\"_parent\"><img src=\"https://colab.research.google.com/assets/colab-badge.svg\" alt=\"Open In Colab\"/></a>"
      ]
    },
    {
      "cell_type": "code",
      "execution_count": 10,
      "metadata": {
        "colab": {
          "base_uri": "https://localhost:8080/"
        },
        "id": "9Bxp97ol1ecN",
        "outputId": "7dd7948d-3055-4b2a-af7d-0961cbb7e683"
      },
      "outputs": [
        {
          "output_type": "stream",
          "name": "stdout",
          "text": [
            "I am a Warlock and Chaos Bolt is my signature class spell!\n",
            "False\n"
          ]
        }
      ],
      "source": [
        "#this is an example of Polymorphism using identical methods that produce different behaviors when applied to different objects\n",
        "\n",
        "class ClassinWoW:\n",
        "  def __init__(self, wowclass, weapon_type, armor_type):\n",
        "    self.wowclass = wowclass\n",
        "    self.weapon_type = weapon_type\n",
        "    self.armor_type = armor_type\n",
        "  def favorite_spell(self, spell):\n",
        "    self.spell = spell\n",
        "    print(f\"I am a {self.wowclass} and {self.spell} is my signature class spell!\")\n",
        "\n",
        "Class_Warlock = ClassinWoW(\"Warlock\", [\"Staffs, Wands, Daggers, Off-hand, One-handed Swords\"], \"Cloth\")\n",
        "Class_Warlock.favorite_spell(\"Chaos Bolt\")\n",
        "print(\"Staff\" in Class_Warlock.armor_type)\n",
        "#expected output is false\n",
        "print(\"Staff\" in )\n",
        "\n",
        "# I would like to the user to be able to verify if a class can use a particular weapon\n",
        "#here i've used a conditional print statement that uses the object with the armor type attribute, we access the instance or object attributes by using the dot notation on the object\n",
        "#we expect a true or false value in our print statements.\n",
        "#we can instead create a method that checks for if a class can use a weapon type that a user inputs\n",
        "\n",
        "\n",
        "\n"
      ]
    }
  ]
}